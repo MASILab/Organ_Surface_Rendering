{
 "cells": [
  {
   "cell_type": "markdown",
   "metadata": {},
   "source": [
    "# Atlas Surface Rendering\n",
    "Adam Saunders\n",
    "\n",
    "[MASI Lab](https://my.vanderbilt.edu/masi/), Vanderbilt University\n",
    "\n",
    "Often, when using atlases for volumetric data, we wish to see the deformation resulting from registering a subject to an atlas. Here, we present code for generating a VTK surface from a subject image. We superimpose a checkerboard that undergoes the inverse deformation from atlas space to subject space. We can compare this checkerboard across several subjects to gain an understanding of how consistent our registration is.\n",
    "\n",
    "The process for generating the surface is:\n",
    "1. Generate a checkerboard in atlas space\n",
    "2. Apply the inverse deformations from atlas to subject space to the checkerboard\n",
    "3. Create the surface with the checkerboard\n",
    "\n",
    "The code allows us to customize the grid size and number of colors for our checkerboard. Additionally, we provide code to generate a custom color map for Paraview."
   ]
  },
  {
   "cell_type": "markdown",
   "metadata": {},
   "source": [
    "## Download and register data\n",
    "\n",
    "For this example, we will use the T1-weighted [MNI152 template](https://nist.mni.mcgill.ca/icbm-152-nonlinear-atlases-2009/) as our atlas. We use the T1-weighted image from subject 17 from [OpenNeuro dataset 001233](https://github.com/OpenNeuroDatasets/ds001233).\n",
    "\n",
    "You can also get the data directly in Python using the templateflow and ndslib packages to download the data:"
   ]
  },
  {
   "cell_type": "code",
   "execution_count": null,
   "metadata": {},
   "outputs": [],
   "source": [
    "import templateflow.api as tflow\n",
    "from ndslib.data import download_bids_dataset\n",
    "import nibabel as nib\n",
    "download_bids_dataset()\n",
    "mni_img = nib.load(tflow.get('MNI152NLin2009cAsym', resolution=1, suffix='T1w', desc=None))\n",
    "nib.save(mni_img, 'data/templates/MNI152NLin2009cAsym.nii')"
   ]
  },
  {
   "cell_type": "markdown",
   "metadata": {},
   "source": [
    "First we need register our data. I used a [simple registration provided by the ANTs repository](https://github.com/ANTsX/ANTs/wiki/Anatomy-of-an-antsRegistration-call):"
   ]
  },
  {
   "cell_type": "code",
   "execution_count": null,
   "metadata": {},
   "outputs": [],
   "source": [
    "%%bash\n",
    "thisfolder=\"data/registration\"\n",
    "sub=\"sub-17\"\n",
    "template=\"data/subjects/sub-17_ses-pre_T1w.nii.gz\"\n",
    "t1brain=\"data/templates/MNI152NLin2009cAsym.nii\"\n",
    "antsRegistration --dimensionality 3 --float 0 \\\n",
    "    --output [$thisfolder/template_to_${sub}_,$thisfolder/template_to_${sub}_Warped.nii.gz] \\\n",
    "    --interpolation Linear \\\n",
    "    --winsorize-image-intensities [0.005,0.995] \\\n",
    "    --use-histogram-matching 0 \\\n",
    "    --initial-moving-transform [$t1brain,$template,1] \\\n",
    "    --transform Rigid[0.1] \\\n",
    "    --metric MI[$t1brain,$template,1,32,Regular,0.25] \\\n",
    "    --convergence [1000x500x250x100,1e-6,10] \\\n",
    "    --shrink-factors 8x4x2x1 \\\n",
    "    --smoothing-sigmas 3x2x1x0vox \\\n",
    "    --transform Affine[0.1] \\\n",
    "    --metric MI[$t1brain,$template,1,32,Regular,0.25] \\\n",
    "    --convergence [1000x500x250x100,1e-6,10] \\\n",
    "    --shrink-factors 8x4x2x1 \\\n",
    "    --smoothing-sigmas 3x2x1x0vox \\\n",
    "    --transform SyN[0.1,3,0] \\\n",
    "    --metric CC[$t1brain,$template,1,4] \\\n",
    "    --convergence [100x70x50x20,1e-6,10] \\\n",
    "    --shrink-factors 8x4x2x1 \\\n",
    "    --smoothing-sigmas 3x2x1x0vox"
   ]
  },
  {
   "cell_type": "markdown",
   "metadata": {},
   "source": [
    "## Preprocess data\n",
    "\n",
    "For the purpose of this exercise, we want to use atlas and subject labels instead of the MRI images. First, we perform skull stripping using BET and then segment the image using FAST, both available with the [FSL toolbox](https://fsl.fmrib.ox.ac.uk/fsl/fslwiki)."
   ]
  },
  {
   "cell_type": "code",
   "execution_count": null,
   "metadata": {},
   "outputs": [],
   "source": [
    "%%bash\n",
    "bet data/subjects/sub-17_ses-pre_T1w.nii.gz data/subjects_brain/sub-17_ses-pre_T1w.nii.gz\n",
    "bet data/templates/MNI152NLin2009cAsym.nii.gz data/templates_brain/MNI152NLin2009cAsym.nii.gz\n",
    "fast -t 1 -n 3 -H 0.1 -I 4 -l 20.0 -g -o data/templates_brain/MNI152NLin2009cAsym data/templates_brain/MNI152NLin2009cAsym\n",
    "fast -t 1 -n 3 -H 0.1 -I 4 -l 20.0 -g -o data/subjects_brain/sub-17_ses-pre_T1w data/subjects_brain/sub-17_ses-pre_T1w"
   ]
  },
  {
   "cell_type": "markdown",
   "metadata": {},
   "source": [
    "Next, since most of the deformation appears along the inside of the brain, we will choose to generate a surface for half of the gray matter using a sagittal view. We create this ROI and copy the corresponding atlas label:"
   ]
  },
  {
   "cell_type": "code",
   "execution_count": null,
   "metadata": {},
   "outputs": [],
   "source": [
    "%%bash\n",
    "fslmaths data/subjects_brain/sub-17_ses-pre_T1w_seg_2.nii.gz -roi 96 -1 0 -1 0 -1 0 1 data/subjects_label/sub-17_ses-pre_T1w.nii.gz\n",
    "cp data/templates_brain/MNI152NLin2009cAsym_seg_2.nii.gz data/templates_label/MNI152NLin2009cAsym.nii.gz"
   ]
  },
  {
   "cell_type": "markdown",
   "metadata": {},
   "source": [
    "## 1. Generate checkerboard\n",
    "\n",
    "First, we generate the checkerboard in atlas space. Note that we can customize the number of colors and the grid size, as well as the view (coronal, sagittal, axial). Here, we generate a sagittal view with a grid size of 16 and 12 colors. We name the checkerboard the same name as our subject since we will be deforming it into subject space. This is helpful when generating surfaces for many subjects."
   ]
  },
  {
   "cell_type": "code",
   "execution_count": 81,
   "metadata": {},
   "outputs": [],
   "source": [
    "%%bash\n",
    "python checkerboard_generate.py \\\n",
    "    --input_label data/templates_label/MNI152NLin2009cAsym.nii.gz \\\n",
    "    --grid_size 16 \\\n",
    "    --view 2 \\\n",
    "    --output_cb data/checkerboard/sub-17_ses-pre_T1w.nii.gz \\\n",
    "    --num_colors 12"
   ]
  },
  {
   "cell_type": "markdown",
   "metadata": {},
   "source": [
    "## 2. Apply inverse deformation to checkerboard\n",
    "\n",
    "Next, we apply the inverse transformations from atlas space to subject space to our checkerboard."
   ]
  },
  {
   "cell_type": "code",
   "execution_count": 82,
   "metadata": {},
   "outputs": [],
   "source": [
    "%%bash\n",
    "affine=\"data/registration/template_to_sub-17_0GenericAffine.mat\"\n",
    "invWarp=\"data/registration/template_to_sub-17_1InverseWarp.nii.gz\"\n",
    "\n",
    "antsApplyTransforms -d 3 -i data/checkerboard/sub-17_ses-pre_T1w.nii.gz \\\n",
    "    -r data/subjects_label/sub-17_ses-pre_T1w.nii.gz \\\n",
    "    -o data/checkerboard_deformed/sub-17_ses-pre_T1w.nii.gz \\\n",
    "    -n NearestNeighbor \\\n",
    "    -t [$affine,1] \\\n",
    "    -t $invWarp  "
   ]
  },
  {
   "cell_type": "markdown",
   "metadata": {},
   "source": [
    "## 3. Generate surface\n",
    "\n",
    "Finally, we generate a VTK surface from the subject with the deformed checkerboard superimposed. This file can be viewed in Paraview."
   ]
  },
  {
   "cell_type": "code",
   "execution_count": 84,
   "metadata": {},
   "outputs": [],
   "source": [
    "%%bash\n",
    "python convert_surface_vtk.py \\\n",
    "    --input_dir data/subjects_label \\\n",
    "    --cb_dir data/checkerboard_deformed \\\n",
    "    --output_dir data/outputs"
   ]
  },
  {
   "cell_type": "markdown",
   "metadata": {},
   "source": [
    "## References"
   ]
  },
  {
   "cell_type": "markdown",
   "metadata": {},
   "source": [
    "- Downloading example data: http://neuroimaging-data-science.org/content/006-image/003-registration.html\n",
    "- ANTs registration: https://github.com/ANTsX/ANTs/wiki/Anatomy-of-an-antsRegistration-call\n",
    "- OpenNeuro dataset: https://github.com/OpenNeuroDatasets/ds001233\n",
    "- MNI152 template: https://nist.mni.mcgill.ca/icbm-152-nonlinear-atlases-2009/\n",
    "- templateflow: https://www.templateflow.org/\n",
    "- ndslib: https://pypi.org/project/ndslib/\n",
    "- FSL: https://fsl.fmrib.ox.ac.uk/fsl/fslwiki"
   ]
  }
 ],
 "metadata": {
  "kernelspec": {
   "display_name": "neuro",
   "language": "python",
   "name": "python3"
  },
  "language_info": {
   "codemirror_mode": {
    "name": "ipython",
    "version": 3
   },
   "file_extension": ".py",
   "mimetype": "text/x-python",
   "name": "python",
   "nbconvert_exporter": "python",
   "pygments_lexer": "ipython3",
   "version": "3.11.4"
  },
  "orig_nbformat": 4
 },
 "nbformat": 4,
 "nbformat_minor": 2
}
